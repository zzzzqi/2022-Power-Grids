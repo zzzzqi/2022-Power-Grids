{
 "cells": [
  {
   "cell_type": "code",
   "execution_count": 1,
   "metadata": {},
   "outputs": [],
   "source": [
    "## struct1 has adjusted kernel size in the CNN convolution layers.\n",
    "## dataset100sr_10tau is the dataset used."
   ]
  },
  {
   "cell_type": "code",
   "execution_count": 2,
   "metadata": {},
   "outputs": [],
   "source": [
    "# Import dependencies\n",
    "import os\n",
    "import tensorflow as tf\n",
    "import numpy as np\n",
    "import matplotlib.pyplot as plt\n",
    "from tensorflow.keras import datasets, layers, models, utils, activations\n",
    "from tensorflow.keras import optimizers, losses, metrics, preprocessing"
   ]
  },
  {
   "cell_type": "code",
   "execution_count": 3,
   "metadata": {},
   "outputs": [],
   "source": [
    "# Change these variables for different datasets\n",
    "dataset_directory = os.getcwd() + os.sep + \"dataset_500sr_20tau\"\n",
    "chart_title = \"PQD CNN - struct1 - dataset500sr_20tau\"\n",
    "model_title = \"pqd_cnn_struct1_dataset500sr_20tau_model.h5\""
   ]
  },
  {
   "cell_type": "code",
   "execution_count": 4,
   "metadata": {},
   "outputs": [
    {
     "name": "stdout",
     "output_type": "stream",
     "text": [
      "Found 6000 files belonging to 10 classes.\n",
      "Found 2000 files belonging to 10 classes.\n",
      "Found 2000 files belonging to 10 classes.\n"
     ]
    },
    {
     "name": "stderr",
     "output_type": "stream",
     "text": [
      "2022-08-04 11:49:06.923989: I tensorflow/compiler/jit/xla_cpu_device.cc:41] Not creating XLA devices, tf_xla_enable_xla_devices not set\n",
      "2022-08-04 11:49:06.924589: I tensorflow/core/platform/cpu_feature_guard.cc:142] This TensorFlow binary is optimized with oneAPI Deep Neural Network Library (oneDNN) to use the following CPU instructions in performance-critical operations:  SSE4.2\n",
      "To enable them in other operations, rebuild TensorFlow with the appropriate compiler flags.\n"
     ]
    }
   ],
   "source": [
    "# Import the training dataset\n",
    "training_dataset = preprocessing.image_dataset_from_directory(\n",
    "    directory=dataset_directory + \"/training_set\",\n",
    "    labels='inferred',\n",
    "    label_mode='categorical',\n",
    "    color_mode='grayscale',\n",
    "    image_size=(200, 200)\n",
    ")\n",
    "\n",
    "# Import the validation dataset\n",
    "validation_dataset = preprocessing.image_dataset_from_directory(\n",
    "    directory=dataset_directory + \"/validation_set\",\n",
    "    labels='inferred',\n",
    "    label_mode='categorical',\n",
    "    color_mode='grayscale',\n",
    "    image_size=(200, 200)\n",
    ")\n",
    "\n",
    "# Import the testing dataset\n",
    "testing_dataset = preprocessing.image_dataset_from_directory(\n",
    "    directory=dataset_directory + \"/testing_set\",\n",
    "    labels='inferred',\n",
    "    label_mode='categorical',\n",
    "    color_mode='grayscale',\n",
    "    image_size=(200, 200)\n",
    ")"
   ]
  },
  {
   "cell_type": "code",
   "execution_count": 5,
   "metadata": {},
   "outputs": [],
   "source": [
    "# Build the CNN model - struct1\n",
    "cnn = models.Sequential()\n",
    "# Add first convolution layer\n",
    "cnn.add(layers.Conv2D(\n",
    "    filters=32, \n",
    "    kernel_size=(7, 7), \n",
    "    padding='valid', \n",
    "    activation='relu', \n",
    "    input_shape=(200, 200, 1)\n",
    "    )\n",
    ")\n",
    "cnn.add(layers.AvgPool2D(\n",
    "    pool_size=(2, 2)\n",
    "    )\n",
    ")\n",
    "# Add second convolution layer\n",
    "cnn.add(layers.Conv2D(\n",
    "    filters=48, \n",
    "    kernel_size=(5, 5), \n",
    "    padding='valid',\n",
    "    activation='relu'\n",
    "    )\n",
    ")\n",
    "cnn.add(layers.AvgPool2D(\n",
    "    pool_size=(2, 2)\n",
    "    )\n",
    ")\n",
    "# Add final convolution layer\n",
    "cnn.add(layers.Conv2D(\n",
    "    filters=64, \n",
    "    kernel_size=(3, 3), \n",
    "    padding='valid',\n",
    "    activation='relu'\n",
    "    )\n",
    ")\n",
    "# Add fully-connected layer\n",
    "cnn.add(layers.Flatten())\n",
    "cnn.add(layers.Dense(\n",
    "    units=10,\n",
    "    activation='softmax'\n",
    "    )\n",
    ")"
   ]
  },
  {
   "cell_type": "code",
   "execution_count": 6,
   "metadata": {},
   "outputs": [
    {
     "name": "stdout",
     "output_type": "stream",
     "text": [
      "Model: \"sequential\"\n",
      "_________________________________________________________________\n",
      "Layer (type)                 Output Shape              Param #   \n",
      "=================================================================\n",
      "conv2d (Conv2D)              (None, 194, 194, 32)      1600      \n",
      "_________________________________________________________________\n",
      "average_pooling2d (AveragePo (None, 97, 97, 32)        0         \n",
      "_________________________________________________________________\n",
      "conv2d_1 (Conv2D)            (None, 93, 93, 48)        38448     \n",
      "_________________________________________________________________\n",
      "average_pooling2d_1 (Average (None, 46, 46, 48)        0         \n",
      "_________________________________________________________________\n",
      "conv2d_2 (Conv2D)            (None, 44, 44, 64)        27712     \n",
      "_________________________________________________________________\n",
      "flatten (Flatten)            (None, 123904)            0         \n",
      "_________________________________________________________________\n",
      "dense (Dense)                (None, 10)                1239050   \n",
      "=================================================================\n",
      "Total params: 1,306,810\n",
      "Trainable params: 1,306,810\n",
      "Non-trainable params: 0\n",
      "_________________________________________________________________\n"
     ]
    }
   ],
   "source": [
    "# Show the structure of the CNN\n",
    "cnn.summary()"
   ]
  },
  {
   "cell_type": "code",
   "execution_count": 7,
   "metadata": {},
   "outputs": [],
   "source": [
    "# Configure the CNN for training\n",
    "cnn.compile(\n",
    "    optimizer='adam',\n",
    "    loss='categorical_crossentropy',\n",
    "    metrics=['accuracy']\n",
    ")"
   ]
  },
  {
   "cell_type": "code",
   "execution_count": 8,
   "metadata": {},
   "outputs": [
    {
     "name": "stdout",
     "output_type": "stream",
     "text": [
      "Epoch 1/10\n"
     ]
    },
    {
     "name": "stderr",
     "output_type": "stream",
     "text": [
      "2022-08-04 11:49:07.380600: I tensorflow/compiler/mlir/mlir_graph_optimization_pass.cc:116] None of the MLIR optimization passes are enabled (registered 2)\n"
     ]
    },
    {
     "name": "stdout",
     "output_type": "stream",
     "text": [
      "188/188 [==============================] - 234s 1s/step - loss: 23.3216 - accuracy: 0.5823 - val_loss: 0.2168 - val_accuracy: 0.9475\n",
      "Epoch 2/10\n",
      "188/188 [==============================] - 232s 1s/step - loss: 0.1040 - accuracy: 0.9675 - val_loss: 0.0862 - val_accuracy: 0.9730\n",
      "Epoch 3/10\n",
      "188/188 [==============================] - 234s 1s/step - loss: 0.0733 - accuracy: 0.9752 - val_loss: 0.1038 - val_accuracy: 0.9715\n",
      "Epoch 4/10\n",
      "188/188 [==============================] - 232s 1s/step - loss: 0.0657 - accuracy: 0.9758 - val_loss: 0.1186 - val_accuracy: 0.9730\n",
      "Epoch 5/10\n",
      "188/188 [==============================] - 230s 1s/step - loss: 0.0604 - accuracy: 0.9780 - val_loss: 0.1056 - val_accuracy: 0.9665\n",
      "Epoch 6/10\n",
      "188/188 [==============================] - 233s 1s/step - loss: 0.0522 - accuracy: 0.9810 - val_loss: 0.1227 - val_accuracy: 0.9635\n",
      "Epoch 7/10\n",
      "188/188 [==============================] - 232s 1s/step - loss: 0.0627 - accuracy: 0.9757 - val_loss: 0.1173 - val_accuracy: 0.9655\n",
      "Epoch 8/10\n",
      "188/188 [==============================] - 232s 1s/step - loss: 0.0565 - accuracy: 0.9785 - val_loss: 0.1134 - val_accuracy: 0.9750\n",
      "Epoch 9/10\n",
      "188/188 [==============================] - 233s 1s/step - loss: 0.0389 - accuracy: 0.9830 - val_loss: 0.1096 - val_accuracy: 0.9780\n",
      "Epoch 10/10\n",
      "188/188 [==============================] - 234s 1s/step - loss: 0.0473 - accuracy: 0.9828 - val_loss: 0.0838 - val_accuracy: 0.9735\n"
     ]
    }
   ],
   "source": [
    "# Train the CNN for 10 epochs with the training dataset\n",
    "# Validate the CNN with the validation dataset\n",
    "history = cnn.fit(\n",
    "    training_dataset,\n",
    "    epochs=10,\n",
    "    validation_data=validation_dataset\n",
    ")"
   ]
  },
  {
   "cell_type": "code",
   "execution_count": 9,
   "metadata": {},
   "outputs": [
    {
     "data": {
      "image/png": "[encoded data removed]",
      "text/plain": [
       "<Figure size 432x288 with 1 Axes>"
      ]
     },
     "metadata": {
      "needs_background": "light"
     },
     "output_type": "display_data"
    }
   ],
   "source": [
    "# Plot the training and validation accuracy of the CNN\n",
    "plt.plot(history.history['accuracy'])\n",
    "plt.plot(history.history['val_accuracy'])\n",
    "plt.title(chart_title + \" - accuracy curves\")\n",
    "plt.ylabel('Accuracy (%)')\n",
    "plt.xlabel('Number of epochs')\n",
    "plt.legend(['Training', 'Validation'], loc='lower right')\n",
    "plt.show()"
   ]
  },
  {
   "cell_type": "code",
   "execution_count": 10,
   "metadata": {},
   "outputs": [
    {
     "data": {
      "image/png": "[encoded data removed]",
      "text/plain": [
       "<Figure size 432x288 with 1 Axes>"
      ]
     },
     "metadata": {
      "needs_background": "light"
     },
     "output_type": "display_data"
    }
   ],
   "source": [
    "# Plot the training and validation loss levels of the CNN\n",
    "plt.plot(history.history['loss'])\n",
    "plt.plot(history.history['val_loss'])\n",
    "plt.title(chart_title + \" - loss curves\")\n",
    "plt.ylabel('Losses')\n",
    "plt.xlabel('Number of epochs')\n",
    "plt.legend(['Training', 'Validation'], loc='upper right')\n",
    "plt.show()"
   ]
  },
  {
   "cell_type": "code",
   "execution_count": 11,
   "metadata": {},
   "outputs": [
    {
     "name": "stdout",
     "output_type": "stream",
     "text": [
      "63/63 [==============================] - 22s 347ms/step - loss: 0.0681 - accuracy: 0.9770\n"
     ]
    }
   ],
   "source": [
    "# Evaluate the CNN with the testing dataset\n",
    "results = cnn.evaluate(\n",
    "    testing_dataset\n",
    ")"
   ]
  },
  {
   "cell_type": "code",
   "execution_count": 12,
   "metadata": {},
   "outputs": [],
   "source": [
    "# Save the trained model\n",
    "if not os.path.exists(os.getcwd() + os.sep + \"saved_models\"):\n",
    "    os.mkdir(os.getcwd() + os.sep + \"saved_models\")\n",
    "cnn.save(os.getcwd() + os.sep + \"saved_models\" + os.sep + model_title)"
   ]
  }
 ],
 "metadata": {
  "kernelspec": {
   "display_name": "Python 3.8.5 ('mlp')",
   "language": "python",
   "name": "python3"
  },
  "language_info": {
   "codemirror_mode": {
    "name": "ipython",
    "version": 3
   },
   "file_extension": ".py",
   "mimetype": "text/x-python",
   "name": "python",
   "nbconvert_exporter": "python",
   "pygments_lexer": "ipython3",
   "version": "3.8.13"
  },
  "orig_nbformat": 4,
  "vscode": {
   "interpreter": {
    "hash": "562549b7f89e8cc8060de261bc1c783042c94eef183e4c15a4c76ad9f06e2429"
   }
  }
 },
 "nbformat": 4,
 "nbformat_minor": 2
}
