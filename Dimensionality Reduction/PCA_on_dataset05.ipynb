{
 "cells": [
  {
   "cell_type": "code",
   "execution_count": 10,
   "metadata": {},
   "outputs": [],
   "source": [
    "import numpy as np\n",
    "import pandas as pd\n",
    "import random as rd\n",
    "from sklearn.decomposition import PCA\n",
    "from sklearn import preprocessing\n",
    "import matplotlib.pyplot as plt"
   ]
  },
  {
   "cell_type": "code",
   "execution_count": 11,
   "metadata": {},
   "outputs": [],
   "source": [
    "df = pd.read_csv(\"pqd_predictions_test01_dataset05.csv\", header=0, usecols=range(2, 12))"
   ]
  },
  {
   "cell_type": "code",
   "execution_count": 12,
   "metadata": {},
   "outputs": [],
   "source": [
    "df = df.dropna()"
   ]
  },
  {
   "cell_type": "code",
   "execution_count": 13,
   "metadata": {},
   "outputs": [
    {
     "data": {
      "text/html": [
       "<div>\n",
       "<style scoped>\n",
       "    .dataframe tbody tr th:only-of-type {\n",
       "        vertical-align: middle;\n",
       "    }\n",
       "\n",
       "    .dataframe tbody tr th {\n",
       "        vertical-align: top;\n",
       "    }\n",
       "\n",
       "    .dataframe thead th {\n",
       "        text-align: right;\n",
       "    }\n",
       "</style>\n",
       "<table border=\"1\" class=\"dataframe\">\n",
       "  <thead>\n",
       "    <tr style=\"text-align: right;\">\n",
       "      <th></th>\n",
       "      <th>flickers</th>\n",
       "      <th>harmonics</th>\n",
       "      <th>interruptions</th>\n",
       "      <th>interruptions_harmonics</th>\n",
       "      <th>osc_transients</th>\n",
       "      <th>sags</th>\n",
       "      <th>sags_harmonics</th>\n",
       "      <th>spikes</th>\n",
       "      <th>swells</th>\n",
       "      <th>swells_harmonics</th>\n",
       "    </tr>\n",
       "  </thead>\n",
       "  <tbody>\n",
       "    <tr>\n",
       "      <th>2995</th>\n",
       "      <td>5.729749e-12</td>\n",
       "      <td>9.419878e-12</td>\n",
       "      <td>6.165581e-03</td>\n",
       "      <td>1.174499e-06</td>\n",
       "      <td>6.170437e-03</td>\n",
       "      <td>9.876599e-01</td>\n",
       "      <td>2.315088e-06</td>\n",
       "      <td>5.978582e-07</td>\n",
       "      <td>2.916543e-10</td>\n",
       "      <td>2.970713e-12</td>\n",
       "    </tr>\n",
       "    <tr>\n",
       "      <th>2996</th>\n",
       "      <td>5.921040e-28</td>\n",
       "      <td>1.081668e-19</td>\n",
       "      <td>0.000000e+00</td>\n",
       "      <td>9.875341e-19</td>\n",
       "      <td>1.158848e-12</td>\n",
       "      <td>0.000000e+00</td>\n",
       "      <td>9.017918e-14</td>\n",
       "      <td>3.779187e-24</td>\n",
       "      <td>1.059070e-24</td>\n",
       "      <td>1.000000e+00</td>\n",
       "    </tr>\n",
       "    <tr>\n",
       "      <th>2997</th>\n",
       "      <td>2.116747e-17</td>\n",
       "      <td>1.459411e-22</td>\n",
       "      <td>9.826691e-16</td>\n",
       "      <td>2.677138e-16</td>\n",
       "      <td>1.047291e-08</td>\n",
       "      <td>2.149002e-22</td>\n",
       "      <td>6.426034e-18</td>\n",
       "      <td>6.627840e-08</td>\n",
       "      <td>9.999999e-01</td>\n",
       "      <td>3.964903e-11</td>\n",
       "    </tr>\n",
       "    <tr>\n",
       "      <th>2998</th>\n",
       "      <td>3.018899e-11</td>\n",
       "      <td>4.429376e-06</td>\n",
       "      <td>4.355214e-08</td>\n",
       "      <td>8.924155e-01</td>\n",
       "      <td>3.123666e-07</td>\n",
       "      <td>3.747697e-08</td>\n",
       "      <td>1.075793e-01</td>\n",
       "      <td>1.886408e-13</td>\n",
       "      <td>1.282896e-12</td>\n",
       "      <td>2.684487e-07</td>\n",
       "    </tr>\n",
       "    <tr>\n",
       "      <th>2999</th>\n",
       "      <td>6.554258e-12</td>\n",
       "      <td>4.629142e-22</td>\n",
       "      <td>1.189226e-13</td>\n",
       "      <td>1.508209e-11</td>\n",
       "      <td>9.999999e-01</td>\n",
       "      <td>1.658964e-18</td>\n",
       "      <td>8.303682e-15</td>\n",
       "      <td>2.612912e-13</td>\n",
       "      <td>1.408355e-07</td>\n",
       "      <td>3.071884e-08</td>\n",
       "    </tr>\n",
       "  </tbody>\n",
       "</table>\n",
       "</div>"
      ],
      "text/plain": [
       "          flickers     harmonics  interruptions  interruptions_harmonics  \\\n",
       "2995  5.729749e-12  9.419878e-12   6.165581e-03             1.174499e-06   \n",
       "2996  5.921040e-28  1.081668e-19   0.000000e+00             9.875341e-19   \n",
       "2997  2.116747e-17  1.459411e-22   9.826691e-16             2.677138e-16   \n",
       "2998  3.018899e-11  4.429376e-06   4.355214e-08             8.924155e-01   \n",
       "2999  6.554258e-12  4.629142e-22   1.189226e-13             1.508209e-11   \n",
       "\n",
       "      osc_transients          sags  sags_harmonics        spikes  \\\n",
       "2995    6.170437e-03  9.876599e-01    2.315088e-06  5.978582e-07   \n",
       "2996    1.158848e-12  0.000000e+00    9.017918e-14  3.779187e-24   \n",
       "2997    1.047291e-08  2.149002e-22    6.426034e-18  6.627840e-08   \n",
       "2998    3.123666e-07  3.747697e-08    1.075793e-01  1.886408e-13   \n",
       "2999    9.999999e-01  1.658964e-18    8.303682e-15  2.612912e-13   \n",
       "\n",
       "            swells  swells_harmonics  \n",
       "2995  2.916543e-10      2.970713e-12  \n",
       "2996  1.059070e-24      1.000000e+00  \n",
       "2997  9.999999e-01      3.964903e-11  \n",
       "2998  1.282896e-12      2.684487e-07  \n",
       "2999  1.408355e-07      3.071884e-08  "
      ]
     },
     "execution_count": 13,
     "metadata": {},
     "output_type": "execute_result"
    }
   ],
   "source": [
    "df.tail()"
   ]
  },
  {
   "cell_type": "code",
   "execution_count": 14,
   "metadata": {},
   "outputs": [
    {
     "data": {
      "text/plain": [
       "array([[-0.11521967, -0.14966003],\n",
       "       [-0.11094697,  0.20512999],\n",
       "       [-0.10931525, -0.1750332 ],\n",
       "       ...,\n",
       "       [-0.10748444, -0.19502846],\n",
       "       [-0.27125864,  0.75712506],\n",
       "       [-0.08859449, -0.15459442]])"
      ]
     },
     "execution_count": 14,
     "metadata": {},
     "output_type": "execute_result"
    }
   ],
   "source": [
    "pca = PCA(n_components=2)\n",
    "pca.fit(df)\n",
    "pca_data = pca.transform(df)\n",
    "pca_data"
   ]
  },
  {
   "cell_type": "code",
   "execution_count": 15,
   "metadata": {},
   "outputs": [],
   "source": [
    "per_var = np.round(pca.explained_variance_ratio_*100, decimals=1)\n",
    "labels = ['PC' + str(x) for x in range(1, len(per_var)+1)]"
   ]
  },
  {
   "cell_type": "code",
   "execution_count": 16,
   "metadata": {},
   "outputs": [
    {
     "data": {
      "image/png": "[encoded data removed]",
      "text/plain": [
       "<Figure size 432x288 with 1 Axes>"
      ]
     },
     "metadata": {
      "needs_background": "light"
     },
     "output_type": "display_data"
    }
   ],
   "source": [
    "plt.bar(x=range(1,len(per_var)+1), height=per_var, tick_label=labels)\n",
    "plt.ylabel('Percentage of Explained Variance')\n",
    "plt.xlabel('Principal Component')\n",
    "plt.title('Screen Plot')\n",
    "plt.show()"
   ]
  },
  {
   "cell_type": "code",
   "execution_count": 17,
   "metadata": {},
   "outputs": [
    {
     "data": {
      "text/html": [
       "<div>\n",
       "<style scoped>\n",
       "    .dataframe tbody tr th:only-of-type {\n",
       "        vertical-align: middle;\n",
       "    }\n",
       "\n",
       "    .dataframe tbody tr th {\n",
       "        vertical-align: top;\n",
       "    }\n",
       "\n",
       "    .dataframe thead th {\n",
       "        text-align: right;\n",
       "    }\n",
       "</style>\n",
       "<table border=\"1\" class=\"dataframe\">\n",
       "  <thead>\n",
       "    <tr style=\"text-align: right;\">\n",
       "      <th></th>\n",
       "      <th>PC1</th>\n",
       "      <th>PC2</th>\n",
       "    </tr>\n",
       "  </thead>\n",
       "  <tbody>\n",
       "    <tr>\n",
       "      <th>0</th>\n",
       "      <td>-0.115220</td>\n",
       "      <td>-0.149660</td>\n",
       "    </tr>\n",
       "    <tr>\n",
       "      <th>1</th>\n",
       "      <td>-0.110947</td>\n",
       "      <td>0.205130</td>\n",
       "    </tr>\n",
       "    <tr>\n",
       "      <th>2</th>\n",
       "      <td>-0.109315</td>\n",
       "      <td>-0.175033</td>\n",
       "    </tr>\n",
       "    <tr>\n",
       "      <th>3</th>\n",
       "      <td>-0.136143</td>\n",
       "      <td>0.292894</td>\n",
       "    </tr>\n",
       "    <tr>\n",
       "      <th>4</th>\n",
       "      <td>-0.115217</td>\n",
       "      <td>-0.149672</td>\n",
       "    </tr>\n",
       "    <tr>\n",
       "      <th>...</th>\n",
       "      <td>...</td>\n",
       "      <td>...</td>\n",
       "    </tr>\n",
       "    <tr>\n",
       "      <th>2995</th>\n",
       "      <td>0.120291</td>\n",
       "      <td>-0.005752</td>\n",
       "    </tr>\n",
       "    <tr>\n",
       "      <th>2996</th>\n",
       "      <td>-0.109315</td>\n",
       "      <td>-0.175033</td>\n",
       "    </tr>\n",
       "    <tr>\n",
       "      <th>2997</th>\n",
       "      <td>-0.107484</td>\n",
       "      <td>-0.195028</td>\n",
       "    </tr>\n",
       "    <tr>\n",
       "      <th>2998</th>\n",
       "      <td>-0.271259</td>\n",
       "      <td>0.757125</td>\n",
       "    </tr>\n",
       "    <tr>\n",
       "      <th>2999</th>\n",
       "      <td>-0.088594</td>\n",
       "      <td>-0.154594</td>\n",
       "    </tr>\n",
       "  </tbody>\n",
       "</table>\n",
       "<p>3000 rows × 2 columns</p>\n",
       "</div>"
      ],
      "text/plain": [
       "           PC1       PC2\n",
       "0    -0.115220 -0.149660\n",
       "1    -0.110947  0.205130\n",
       "2    -0.109315 -0.175033\n",
       "3    -0.136143  0.292894\n",
       "4    -0.115217 -0.149672\n",
       "...        ...       ...\n",
       "2995  0.120291 -0.005752\n",
       "2996 -0.109315 -0.175033\n",
       "2997 -0.107484 -0.195028\n",
       "2998 -0.271259  0.757125\n",
       "2999 -0.088594 -0.154594\n",
       "\n",
       "[3000 rows x 2 columns]"
      ]
     },
     "execution_count": 17,
     "metadata": {},
     "output_type": "execute_result"
    }
   ],
   "source": [
    "pca_df = pd.DataFrame(pca_data, columns=labels)\n",
    "pca_df"
   ]
  },
  {
   "cell_type": "code",
   "execution_count": 19,
   "metadata": {},
   "outputs": [
    {
     "data": {
      "image/png": "[encoded data removed]",
      "text/plain": [
       "<Figure size 432x288 with 1 Axes>"
      ]
     },
     "metadata": {
      "needs_background": "light"
     },
     "output_type": "display_data"
    }
   ],
   "source": [
    "plt.scatter(pca_df.PC1, pca_df.PC2)\n",
    "plt.title('My PCA Graph')\n",
    "# plt.axis([0, 1, 0, 1])\n",
    "plt.xlabel('PC1 - {0}%'.format(per_var[0]))\n",
    "plt.ylabel('PC2 - {0}%'.format(per_var[1]))\n",
    "\n",
    "# for sample in pca_df.index:\n",
    "#     plt.annotate(sample, (pca_df.PC1.loc[sample], pca_df.PC2.loc[sample]))\n",
    "    \n",
    "plt.show()"
   ]
  },
  {
   "cell_type": "code",
   "execution_count": null,
   "metadata": {},
   "outputs": [],
   "source": []
  }
 ],
 "metadata": {
  "interpreter": {
   "hash": "5e6cd5ff03694bbfe3f3c143f2bd018a5678bf214b36723f27da5a36ce4f3859"
  },
  "kernelspec": {
   "display_name": "Python 3.8.13 ('base')",
   "language": "python",
   "name": "python3"
  },
  "language_info": {
   "codemirror_mode": {
    "name": "ipython",
    "version": 3
   },
   "file_extension": ".py",
   "mimetype": "text/x-python",
   "name": "python",
   "nbconvert_exporter": "python",
   "pygments_lexer": "ipython3",
   "version": "3.8.13"
  },
  "orig_nbformat": 4
 },
 "nbformat": 4,
 "nbformat_minor": 2
}
